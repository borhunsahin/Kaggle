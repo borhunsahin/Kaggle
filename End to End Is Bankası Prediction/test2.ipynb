{
 "cells": [
  {
   "cell_type": "code",
   "execution_count": 7,
   "metadata": {},
   "outputs": [],
   "source": [
    "import numpy as np \n",
    "import pandas as pd \n",
    "from sklearn.preprocessing import LabelEncoder\n",
    "from sklearn.model_selection import train_test_split\n",
    "from sklearn.multioutput import MultiOutputClassifier\n",
    "from sklearn.ensemble import RandomForestClassifier\n",
    "import os\n",
    "for dirname, _, filenames in os.walk('/kaggle/input'):\n",
    "    for filename in filenames:\n",
    "        print(os.path.join(dirname, filename))"
   ]
  },
  {
   "cell_type": "code",
   "execution_count": 8,
   "metadata": {},
   "outputs": [],
   "source": [
    "train = pd.read_parquet(\"train_final.parquet\")\n",
    "test = pd.read_parquet(\"test_final.parquet\")\n",
    "submit = pd.read_parquet(\"submission_sample_final.parquet\")\n",
    "\n",
    "top_n = 15  \n",
    "\n",
    "top_carriers = train[\"carrier\"].value_counts().head(top_n).index.tolist()\n",
    "\n",
    "train[\"carrier_encoded\"] = train[\"carrier\"].apply(lambda x: x if x in top_carriers else \"Other\")\n",
    "\n",
    "label_encoder = LabelEncoder()\n",
    "train[\"carrier_encoded\"] = label_encoder.fit_transform(train[\"carrier_encoded\"])\n",
    "top_devicebrand = train[\"devicebrand\"].value_counts().head(20).index.tolist()\n",
    "\n",
    "train[\"devicebrand_encoded\"] = train[\"devicebrand\"].apply(lambda x: x if x in top_devicebrand else \"Other\")\n",
    "\n",
    "label_encoder = LabelEncoder()\n",
    "train[\"devicebrand_encoded\"] = label_encoder.fit_transform(train[\"devicebrand_encoded\"])\n",
    "\n",
    "train = train.drop(columns=['id'])\n",
    "train = train.drop(columns=['carrier'])\n",
    "train = train.drop(columns=['devicebrand'])\n",
    "train[['Ilk_menu', 'Ikinci_menu', 'Ucuncu_menu']] = train['target'].str.split(',', expand=True)\n",
    "train = train.drop(columns=['target'])\n",
    "\n",
    "top_carriers = test[\"carrier\"].value_counts().head(15).index.tolist()\n",
    "\n",
    "test[\"carrier_encoded\"] = test[\"carrier\"].apply(lambda x: x if x in top_carriers else \"Other\")\n",
    "\n",
    "label_encoder = LabelEncoder()\n",
    "test[\"carrier_encoded\"] = label_encoder.fit_transform(test[\"carrier_encoded\"])\n",
    "\n",
    "top_carriers = test[\"devicebrand\"].value_counts().head(20).index.tolist()\n",
    "\n",
    "test[\"devicebrand_encoded\"] = test[\"devicebrand\"].apply(lambda x: x if x in top_carriers else \"Other\")\n",
    "\n",
    "label_encoder = LabelEncoder()\n",
    "test[\"devicebrand_encoded\"] = label_encoder.fit_transform(test[\"devicebrand_encoded\"])\n",
    "\n",
    "test = test.drop(columns=['id'])\n",
    "test = test.drop(columns=['carrier'])\n",
    "test = test.drop(columns=['devicebrand'])\n",
    "\n",
    "menu_mapping1 = {\n",
    "    ' menu1': 1,\n",
    "    ' menu2': 2,\n",
    "    ' menu3': 3,\n",
    "    ' menu4': 4,\n",
    "    ' menu5': 5,\n",
    "    ' menu6': 6,\n",
    "    ' menu7': 7,\n",
    "    ' menu8': 8,\n",
    "    ' menu9': 9,\n",
    "}\n",
    "menu_mapping = {\n",
    "    'menu1': 1,\n",
    "    'menu2': 2,\n",
    "    'menu3': 3,\n",
    "    'menu4': 4,\n",
    "    'menu5': 5,\n",
    "    'menu6': 6,\n",
    "    'menu7': 7,\n",
    "    'menu8': 8,\n",
    "    'menu9': 9,\n",
    "}\n",
    "train['Ilk_menu'] = train['Ilk_menu'].replace(menu_mapping)\n",
    "train['Ikinci_menu'] = train['Ikinci_menu'].replace(menu_mapping1)\n",
    "train['Ucuncu_menu'] = train['Ucuncu_menu'].replace(menu_mapping1)"
   ]
  },
  {
   "cell_type": "code",
   "execution_count": 9,
   "metadata": {},
   "outputs": [
    {
     "name": "stdout",
     "output_type": "stream",
     "text": [
      "Evaluating Random Forest...\n",
      "Jaccard Score for Random Forest: 0.5416764132553606\n"
     ]
    }
   ],
   "source": [
    "df = train \n",
    "\n",
    "X = df.drop(columns=['Ilk_menu', 'Ikinci_menu', 'Ucuncu_menu'])\n",
    "y = df[['Ilk_menu', 'Ikinci_menu', 'Ucuncu_menu']]\n",
    "X_train, X_test, y_train, y_test = train_test_split(X, y, test_size=0.2, random_state=42)\n",
    "\n",
    "classifiers = {\n",
    "    'Random Forest': RandomForestClassifier(n_estimators=100, random_state=42),\n",
    "}\n",
    "\n",
    "def jaccard_similarity_score(y_true, y_pred):\n",
    "    jaccard_scores = []\n",
    "    for i in range(len(y_true)):\n",
    "        intersection = np.sum(np.logical_and(y_true[i], y_pred[i]))\n",
    "        union = np.sum(np.logical_or(y_true[i], y_pred[i]))\n",
    "        jaccard_score = intersection / union\n",
    "        jaccard_scores.append(jaccard_score)\n",
    "    return np.mean(jaccard_scores)\n",
    "\n",
    "import numpy as np\n",
    "\n",
    "def process_predictions(y_pred, y_test):\n",
    "    y_test = np.array(y_test)\n",
    "\n",
    "    def to_binary_representation(data):\n",
    "        joined_array = np.array([', '.join(map(str, row)) for row in data])\n",
    "        all_menus = ['1', '2', '3', '4', '5', '6', '7', '8', '9']\n",
    "        binary_rep = [[1 if menu in entry else 0 for menu in all_menus] for entry in joined_array]\n",
    "        return np.array(binary_rep)\n",
    "\n",
    "    y_pred_binary = to_binary_representation(y_pred)\n",
    "    y_test_binary = to_binary_representation(y_test)\n",
    "\n",
    "    return y_test_binary, y_pred_binary\n",
    "\n",
    "for name, clf in classifiers.items():\n",
    "    print(f\"Evaluating {name}...\")\n",
    "\n",
    "    model = MultiOutputClassifier(clf)\n",
    "    model.fit(X_train, y_train)\n",
    "    y_pred = model.predict(X_test)\n",
    "\n",
    "    y_true, y_pred = process_predictions(y_pred, y_test.values)\n",
    "\n",
    "    score = jaccard_similarity_score(y_true, y_pred)\n",
    "    print(f\"Jaccard Score for {name}: {score}\")"
   ]
  },
  {
   "cell_type": "code",
   "execution_count": 31,
   "metadata": {},
   "outputs": [
    {
     "data": {
      "text/plain": [
       "18810"
      ]
     },
     "execution_count": 31,
     "metadata": {},
     "output_type": "execute_result"
    }
   ],
   "source": [
    "len(y_pred)"
   ]
  },
  {
   "cell_type": "code",
   "execution_count": 33,
   "metadata": {},
   "outputs": [
    {
     "data": {
      "text/plain": [
       "18810"
      ]
     },
     "execution_count": 33,
     "metadata": {},
     "output_type": "execute_result"
    }
   ],
   "source": [
    "len(y_true)"
   ]
  }
 ],
 "metadata": {
  "kernelspec": {
   "display_name": "Python 3",
   "language": "python",
   "name": "python3"
  },
  "language_info": {
   "codemirror_mode": {
    "name": "ipython",
    "version": 3
   },
   "file_extension": ".py",
   "mimetype": "text/x-python",
   "name": "python",
   "nbconvert_exporter": "python",
   "pygments_lexer": "ipython3",
   "version": "3.10.2"
  }
 },
 "nbformat": 4,
 "nbformat_minor": 2
}
